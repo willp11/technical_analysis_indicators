{
 "cells": [
  {
   "cell_type": "code",
   "execution_count": 1,
   "id": "9d3511e2-0e12-4fe9-92b0-667e002e6745",
   "metadata": {},
   "outputs": [],
   "source": [
    "import requests"
   ]
  },
  {
   "cell_type": "code",
   "execution_count": 5,
   "id": "c174de7f-9649-429c-8fa1-5109cc3e9a34",
   "metadata": {},
   "outputs": [],
   "source": [
    "# function to get data from FTX exchange API\n",
    "api_prefix = \"https://ftx.com/api\"\n",
    "\n",
    "def send_get_request(endpoint):\n",
    "    api_prefix = \"https://ftx.com/api\"\n",
    "    url = api_prefix + endpoint\n",
    "    response = requests.request(\"GET\", url)\n",
    "    return response.json()"
   ]
  },
  {
   "cell_type": "code",
   "execution_count": 7,
   "id": "8355d903-4db9-44cc-b6ef-62df0ab2c8d2",
   "metadata": {},
   "outputs": [],
   "source": [
    "# get data for all markets\n",
    "all_markets = send_get_request(\"/markets\")"
   ]
  },
  {
   "cell_type": "code",
   "execution_count": 42,
   "id": "bd1789c1-d3e5-4085-aeba-50aad5c5ed17",
   "metadata": {},
   "outputs": [],
   "source": [
    "# get historical prices for single market\n",
    "# GET /markets/{market_name}/candles?resolution={resolution}&start_time={start_time}&end_time={end_time}\n",
    "# resolution = window length in seconds. start_time and end_time optional timestamps\n",
    "historical_prices = send_get_request(\"/markets/BTC-PERP/candles?resolution=3600\")"
   ]
  },
  {
   "cell_type": "code",
   "execution_count": 43,
   "id": "d675d48a-e598-49fa-acf8-a2b9f3e232db",
   "metadata": {},
   "outputs": [
    {
     "name": "stdout",
     "output_type": "stream",
     "text": [
      "40011.0\n"
     ]
    }
   ],
   "source": [
    "# calculate simple moving averages - input data as slice FTX result and \"open\", \"high\", \"low\", \"close\"\n",
    "def calc_sma(data, ohlc):\n",
    "    periods = len(data)\n",
    "    sum_price = 0\n",
    "    for i in range(periods):\n",
    "        sum_price += data[i][ohlc]\n",
    "    avg = sum_price / periods\n",
    "    return avg\n",
    "    \n",
    "sma_20 = calc_sma(historical_prices[\"result\"][-20:], \"close\")\n",
    "print(sma_20)"
   ]
  },
  {
   "cell_type": "code",
   "execution_count": 44,
   "id": "26fb889f-5df5-4b29-aa09-cd6af1419b58",
   "metadata": {},
   "outputs": [
    {
     "name": "stdout",
     "output_type": "stream",
     "text": [
      "39851.78006512375\n"
     ]
    }
   ],
   "source": [
    "# calculate exponential moving averages - input data as FTX result, no. of periods and \"open\", \"high\", \"low\", \"close\"\n",
    "def calc_next_ema(today, yesterday, multiplier):\n",
    "    ema = (today * multiplier) + (yesterday * (1-multiplier))\n",
    "    return ema\n",
    "\n",
    "def calc_ema(data, periods, ohlc):\n",
    "    ema = calc_sma(data[0:periods], ohlc)\n",
    "    multiplier = 2/(periods+1)\n",
    "    for i in range(periods, len(data)):\n",
    "        ema = calc_next_ema(data[i][ohlc], ema, multiplier)\n",
    "    return ema\n",
    "    \n",
    "ema_20 = calc_ema(historical_prices[\"result\"], 20, \"close\")\n",
    "print(ema_20)"
   ]
  },
  {
   "cell_type": "code",
   "execution_count": null,
   "id": "30211475-22b6-485d-9e45-8049bcf947d4",
   "metadata": {},
   "outputs": [],
   "source": []
  }
 ],
 "metadata": {
  "kernelspec": {
   "display_name": "Python 3",
   "language": "python",
   "name": "python3"
  },
  "language_info": {
   "codemirror_mode": {
    "name": "ipython",
    "version": 3
   },
   "file_extension": ".py",
   "mimetype": "text/x-python",
   "name": "python",
   "nbconvert_exporter": "python",
   "pygments_lexer": "ipython3",
   "version": "3.9.7"
  }
 },
 "nbformat": 4,
 "nbformat_minor": 5
}
