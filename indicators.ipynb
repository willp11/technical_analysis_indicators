{
 "cells": [
  {
   "cell_type": "code",
   "execution_count": 82,
   "id": "9d3511e2-0e12-4fe9-92b0-667e002e6745",
   "metadata": {},
   "outputs": [],
   "source": [
    "import requests\n",
    "\n",
    "ohlc_types = [\"open\", \"high\", \"low\", \"close\"]"
   ]
  },
  {
   "cell_type": "code",
   "execution_count": 5,
   "id": "c174de7f-9649-429c-8fa1-5109cc3e9a34",
   "metadata": {},
   "outputs": [],
   "source": [
    "# function to get data from FTX exchange API\n",
    "api_prefix = \"https://ftx.com/api\"\n",
    "\n",
    "def send_get_request(endpoint):\n",
    "    api_prefix = \"https://ftx.com/api\"\n",
    "    url = api_prefix + endpoint\n",
    "    response = requests.request(\"GET\", url)\n",
    "    return response.json()"
   ]
  },
  {
   "cell_type": "code",
   "execution_count": 7,
   "id": "8355d903-4db9-44cc-b6ef-62df0ab2c8d2",
   "metadata": {},
   "outputs": [],
   "source": [
    "# get data for all markets\n",
    "all_markets = send_get_request(\"/markets\")"
   ]
  },
  {
   "cell_type": "code",
   "execution_count": 100,
   "id": "bd1789c1-d3e5-4085-aeba-50aad5c5ed17",
   "metadata": {},
   "outputs": [],
   "source": [
    "# get historical prices for single market\n",
    "# GET /markets/{market_name}/candles?resolution={resolution}&start_time={start_time}&end_time={end_time}\n",
    "# resolution = window length in seconds. start_time and end_time optional timestamps\n",
    "historical_prices = send_get_request(\"/markets/BTC-PERP/candles?resolution=3600\")"
   ]
  },
  {
   "cell_type": "code",
   "execution_count": 43,
   "id": "d675d48a-e598-49fa-acf8-a2b9f3e232db",
   "metadata": {},
   "outputs": [
    {
     "name": "stdout",
     "output_type": "stream",
     "text": [
      "40011.0\n"
     ]
    }
   ],
   "source": [
    "# calculate simple moving averages - input data as slice FTX result and \"open\", \"high\", \"low\", \"close\"\n",
    "def calc_sma(data, ohlc):\n",
    "    periods = len(data)\n",
    "    sum_price = 0\n",
    "    for i in range(periods):\n",
    "        sum_price += data[i][ohlc]\n",
    "    avg = sum_price / periods\n",
    "    return avg\n",
    "    \n",
    "sma_20 = calc_sma(historical_prices[\"result\"][-20:], \"close\")\n",
    "print(sma_20)"
   ]
  },
  {
   "cell_type": "code",
   "execution_count": 88,
   "id": "26fb889f-5df5-4b29-aa09-cd6af1419b58",
   "metadata": {},
   "outputs": [
    {
     "name": "stdout",
     "output_type": "stream",
     "text": [
      "39622.42241041726\n"
     ]
    }
   ],
   "source": [
    "# calculate exponential moving averages - input data as FTX result, no. of periods and \"open\", \"high\", \"low\", \"close\"\n",
    "def calc_next_ema(today, yesterday, multiplier):\n",
    "    ema = (today * multiplier) + (yesterday * (1-multiplier))\n",
    "    return ema\n",
    "\n",
    "def calc_ema(data, periods, ohlc, return_all):\n",
    "    # data length check\n",
    "    if len(data) < periods:\n",
    "        raise Exception(\"not enough data\")\n",
    "    \n",
    "    all_ema = []\n",
    "    ema = calc_sma(data[0:periods], ohlc)\n",
    "    all_ema.append(ema)\n",
    "    multiplier = 2/(periods+1)\n",
    "    for i in range(periods, len(data)):\n",
    "        ema = calc_next_ema(data[i][ohlc], ema, multiplier)\n",
    "        all_ema.append(ema)\n",
    "        \n",
    "    if return_all:\n",
    "        return all_ema\n",
    "    else:\n",
    "        return ema\n",
    "    \n",
    "ema_20 = calc_ema(historical_prices[\"result\"], 20, \"close\", False)\n",
    "print(ema_20)"
   ]
  },
  {
   "cell_type": "code",
   "execution_count": 87,
   "id": "30211475-22b6-485d-9e45-8049bcf947d4",
   "metadata": {},
   "outputs": [],
   "source": [
    "# calculate Relative Strength Index (RSI) - input data as FTX result, no. of periods and \"open\", \"high\", \"low\", \"close\", return list boolean\n",
    "# returns either single rsi value or list of all calculated rsi values\n",
    "\n",
    "def calc_rsi_step_one(data, periods, ohlc):\n",
    "    total_gain = 0\n",
    "    total_loss = 0\n",
    "    for i in range(periods):\n",
    "        change = data[i+1][ohlc] - data[i][ohlc]\n",
    "        if change > 0:\n",
    "            total_gain += change\n",
    "        else: \n",
    "            total_loss += abs(change)\n",
    "    avg_gain = total_gain / periods\n",
    "    avg_loss = total_loss / periods\n",
    "    \n",
    "    rsi = 100 - (100 / (1 + (avg_gain / avg_loss)) )\n",
    "    return {\"avg_gain\": avg_gain, \"avg_loss\": avg_loss, \"rsi\": rsi}\n",
    "                 \n",
    "def calc_rsi(data, periods, ohlc, return_all: bool):\n",
    "    # type checks\n",
    "    if type(return_all) is not bool or type(data) is not list or type(periods) is not int or ohlc not in ohlc_types:\n",
    "        raise Exception(\"invalid input type\")\n",
    "    # data length check\n",
    "    if len(data) < periods + 1:\n",
    "        raise Exception(\"not enough data\")\n",
    "    \n",
    "    # calculate rsi\n",
    "    rsi_step_one = calc_rsi_step_one(data, periods, ohlc)\n",
    "    if len(data) == periods + 1:\n",
    "        return [rsi_step_one[\"rsi\"]]\n",
    "    else:\n",
    "        all_rsi = []\n",
    "        previous_avg_gain = rsi_step_one[\"avg_gain\"]\n",
    "        previous_avg_loss = rsi_step_one[\"avg_loss\"]\n",
    "        for i in range(periods + 1, len(data) - 1):\n",
    "            change = data[i+1][ohlc] - data[i][ohlc]\n",
    "\n",
    "            if change > 0:\n",
    "                current_gain = change\n",
    "                current_loss = 0\n",
    "            elif change < 0:\n",
    "                current_loss = abs(change)\n",
    "                current_gain = 0\n",
    "            else:\n",
    "                current_gain = 0\n",
    "                current_loss = 0\n",
    "                \n",
    "            avg_gain = ((previous_avg_gain*13) + current_gain) / 14\n",
    "            avg_loss = ((previous_avg_loss*13) + current_loss) / 14\n",
    "            \n",
    "            if avg_loss > 0:\n",
    "                rs = avg_gain / avg_loss\n",
    "                rsi = 100 - (100 / (1 + (avg_gain / avg_loss)) )\n",
    "            else:\n",
    "                rsi = 100\n",
    "                \n",
    "            previous_avg_gain = avg_gain\n",
    "            previous_avg_loss = avg_loss\n",
    "            \n",
    "            all_rsi.append(rsi)\n",
    "\n",
    "        if return_all:\n",
    "            return all_rsi\n",
    "        else:\n",
    "            return rsi\n",
    "                 \n",
    "rsi = calc_rsi(historical_prices[\"result\"], 14, \"open\", False)\n",
    "all_rsi = calc_rsi(historical_prices[\"result\"], 14, \"close\", True)"
   ]
  },
  {
   "cell_type": "code",
   "execution_count": 101,
   "id": "448573eb-4e0c-47b5-a1e6-a19e9ac70e93",
   "metadata": {},
   "outputs": [
    {
     "name": "stdout",
     "output_type": "stream",
     "text": [
      "{'macd_line': -370.7527974402474, 'signal_line': -272.95079540791585}\n"
     ]
    }
   ],
   "source": [
    "# Moving average convergence divergence (MACD)\n",
    "def calc_macd(data, short_period, long_period):\n",
    "    all_short_ema = calc_ema(data, short_period, \"close\", True)\n",
    "    all_long_ema = calc_ema(data, long_period, \"close\", True)\n",
    "    all_macds = []\n",
    "    diff_in_periods = long_period - short_period\n",
    "    for i in range(len(all_long_ema)):\n",
    "        short_ema = all_short_ema[i + diff_in_periods]\n",
    "        long_ema = all_long_ema[i]\n",
    "        macd = short_ema - long_ema\n",
    "        all_macds.append(macd)\n",
    "    \n",
    "    # signal line - 9 day EMA of macd line\n",
    "    periods = 9\n",
    "    sum_macd = 0\n",
    "    for i in range(periods):\n",
    "        sum_macd += all_macds[i]\n",
    "    ema = sum_macd / periods\n",
    "\n",
    "    signal_line = []\n",
    "    signal_line.append(ema)\n",
    "    \n",
    "    multiplier = 2/(periods+1)\n",
    "    for i in range(periods, len(all_macds)):\n",
    "        ema = calc_next_ema(all_macds[i], ema, multiplier)\n",
    "        signal_line.append(ema)\n",
    "        \n",
    "    macd_line = all_macds[len(all_macds) - 1]\n",
    "    signal_line = signal_line[len(signal_line) - 1]\n",
    "    \n",
    "    return {\"macd_line\": macd_line, \"signal_line\": signal_line}\n",
    "\n",
    "macd = calc_macd(historical_prices[\"result\"], 12, 26)\n",
    "print(macd)"
   ]
  },
  {
   "cell_type": "code",
   "execution_count": null,
   "id": "7001e6cf-0d3f-444d-817f-46c963754db0",
   "metadata": {},
   "outputs": [],
   "source": []
  }
 ],
 "metadata": {
  "kernelspec": {
   "display_name": "Python 3",
   "language": "python",
   "name": "python3"
  },
  "language_info": {
   "codemirror_mode": {
    "name": "ipython",
    "version": 3
   },
   "file_extension": ".py",
   "mimetype": "text/x-python",
   "name": "python",
   "nbconvert_exporter": "python",
   "pygments_lexer": "ipython3",
   "version": "3.9.7"
  }
 },
 "nbformat": 4,
 "nbformat_minor": 5
}
